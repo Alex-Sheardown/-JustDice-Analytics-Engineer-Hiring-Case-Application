{
 "cells": [
  {
   "attachments": {},
   "cell_type": "markdown",
   "metadata": {},
   "source": [
    "### Data Discovery on installs Dataset\n",
    "This Jupyter notebook contains the data discovery steps for the 'installs.csv' dataset, which includes information on."
   ]
  },
  {
   "cell_type": "code",
   "execution_count": 1,
   "metadata": {},
   "outputs": [],
   "source": [
    "import pandas as pd"
   ]
  },
  {
   "cell_type": "code",
   "execution_count": 2,
   "metadata": {},
   "outputs": [],
   "source": [
    "installs_Original = pd.read_csv('../../Data_Sets/Original/installs.csv')"
   ]
  },
  {
   "cell_type": "code",
   "execution_count": 3,
   "metadata": {},
   "outputs": [
    {
     "name": "stdout",
     "output_type": "stream",
     "text": [
      "<class 'pandas.core.frame.DataFrame'>\n",
      "RangeIndex: 216888 entries, 0 to 216887\n",
      "Data columns (total 6 columns):\n",
      " #   Column             Non-Null Count   Dtype \n",
      "---  ------             --------------   ----- \n",
      " 0   install_id         216888 non-null  object\n",
      " 1   country_id         216888 non-null  int64 \n",
      " 2   app_id             216888 non-null  int64 \n",
      " 3   network_id         216888 non-null  int64 \n",
      " 4   event_date         216888 non-null  object\n",
      " 5   device_os_version  216888 non-null  object\n",
      "dtypes: int64(3), object(3)\n",
      "memory usage: 9.9+ MB\n"
     ]
    }
   ],
   "source": [
    "installs_Original.info()\n"
   ]
  },
  {
   "cell_type": "code",
   "execution_count": 4,
   "metadata": {},
   "outputs": [
    {
     "data": {
      "text/html": [
       "<div>\n",
       "<style scoped>\n",
       "    .dataframe tbody tr th:only-of-type {\n",
       "        vertical-align: middle;\n",
       "    }\n",
       "\n",
       "    .dataframe tbody tr th {\n",
       "        vertical-align: top;\n",
       "    }\n",
       "\n",
       "    .dataframe thead th {\n",
       "        text-align: right;\n",
       "    }\n",
       "</style>\n",
       "<table border=\"1\" class=\"dataframe\">\n",
       "  <thead>\n",
       "    <tr style=\"text-align: right;\">\n",
       "      <th></th>\n",
       "      <th>install_id</th>\n",
       "      <th>country_id</th>\n",
       "      <th>app_id</th>\n",
       "      <th>network_id</th>\n",
       "      <th>event_date</th>\n",
       "      <th>device_os_version</th>\n",
       "    </tr>\n",
       "  </thead>\n",
       "  <tbody>\n",
       "    <tr>\n",
       "      <th>0</th>\n",
       "      <td>6b168a9f7a13119b87bfeb834d159f6879ff000205cb27...</td>\n",
       "      <td>1</td>\n",
       "      <td>174</td>\n",
       "      <td>26</td>\n",
       "      <td>2022-12-13</td>\n",
       "      <td>10</td>\n",
       "    </tr>\n",
       "    <tr>\n",
       "      <th>1</th>\n",
       "      <td>218ecd973c988fe76dfd247f92e9317485010844163a51...</td>\n",
       "      <td>1</td>\n",
       "      <td>174</td>\n",
       "      <td>60</td>\n",
       "      <td>2022-12-14</td>\n",
       "      <td>10</td>\n",
       "    </tr>\n",
       "    <tr>\n",
       "      <th>2</th>\n",
       "      <td>f67c1382fc3af8a24cb6f23bff381279d582eb67d4043e...</td>\n",
       "      <td>17</td>\n",
       "      <td>122</td>\n",
       "      <td>26</td>\n",
       "      <td>2022-12-30</td>\n",
       "      <td>11</td>\n",
       "    </tr>\n",
       "    <tr>\n",
       "      <th>3</th>\n",
       "      <td>afe4dc7c1663fba7ba3bc7cf6a308c38c1cb409d253f7f...</td>\n",
       "      <td>1</td>\n",
       "      <td>121</td>\n",
       "      <td>1111</td>\n",
       "      <td>2022-12-30</td>\n",
       "      <td>8.0.0</td>\n",
       "    </tr>\n",
       "    <tr>\n",
       "      <th>4</th>\n",
       "      <td>417acac6a6bdb88a83371f8ab482691d16896e8681afcb...</td>\n",
       "      <td>109</td>\n",
       "      <td>325</td>\n",
       "      <td>10</td>\n",
       "      <td>2022-12-05</td>\n",
       "      <td>11</td>\n",
       "    </tr>\n",
       "  </tbody>\n",
       "</table>\n",
       "</div>"
      ],
      "text/plain": [
       "                                          install_id  country_id  app_id  \\\n",
       "0  6b168a9f7a13119b87bfeb834d159f6879ff000205cb27...           1     174   \n",
       "1  218ecd973c988fe76dfd247f92e9317485010844163a51...           1     174   \n",
       "2  f67c1382fc3af8a24cb6f23bff381279d582eb67d4043e...          17     122   \n",
       "3  afe4dc7c1663fba7ba3bc7cf6a308c38c1cb409d253f7f...           1     121   \n",
       "4  417acac6a6bdb88a83371f8ab482691d16896e8681afcb...         109     325   \n",
       "\n",
       "   network_id  event_date device_os_version  \n",
       "0          26  2022-12-13                10  \n",
       "1          60  2022-12-14                10  \n",
       "2          26  2022-12-30                11  \n",
       "3        1111  2022-12-30             8.0.0  \n",
       "4          10  2022-12-05                11  "
      ]
     },
     "execution_count": 4,
     "metadata": {},
     "output_type": "execute_result"
    }
   ],
   "source": [
    "installs_Original.head(5)"
   ]
  },
  {
   "cell_type": "code",
   "execution_count": 5,
   "metadata": {},
   "outputs": [
    {
     "data": {
      "text/plain": [
       "'2022-01-01'"
      ]
     },
     "execution_count": 5,
     "metadata": {},
     "output_type": "execute_result"
    }
   ],
   "source": [
    "installs_Original['event_date'].min()"
   ]
  },
  {
   "cell_type": "code",
   "execution_count": 6,
   "metadata": {},
   "outputs": [
    {
     "data": {
      "text/plain": [
       "'2022-12-31'"
      ]
     },
     "execution_count": 6,
     "metadata": {},
     "output_type": "execute_result"
    }
   ],
   "source": [
    "installs_Original['event_date'].max()"
   ]
  },
  {
   "cell_type": "code",
   "execution_count": 8,
   "metadata": {},
   "outputs": [
    {
     "data": {
      "text/plain": [
       "216887"
      ]
     },
     "execution_count": 8,
     "metadata": {},
     "output_type": "execute_result"
    }
   ],
   "source": [
    "len(installs_Original['install_id'].unique())"
   ]
  },
  {
   "cell_type": "code",
   "execution_count": 9,
   "metadata": {},
   "outputs": [
    {
     "data": {
      "text/plain": [
       "51"
      ]
     },
     "execution_count": 9,
     "metadata": {},
     "output_type": "execute_result"
    }
   ],
   "source": [
    "len(installs_Original['app_id'].unique())"
   ]
  },
  {
   "cell_type": "code",
   "execution_count": 10,
   "metadata": {},
   "outputs": [
    {
     "data": {
      "text/plain": [
       "4"
      ]
     },
     "execution_count": 10,
     "metadata": {},
     "output_type": "execute_result"
    }
   ],
   "source": [
    "len(installs_Original['country_id'].unique())"
   ]
  },
  {
   "cell_type": "code",
   "execution_count": 11,
   "metadata": {},
   "outputs": [
    {
     "data": {
      "text/plain": [
       "4"
      ]
     },
     "execution_count": 11,
     "metadata": {},
     "output_type": "execute_result"
    }
   ],
   "source": [
    "len(installs_Original['network_id'].unique())\n",
    "#count 10"
   ]
  },
  {
   "cell_type": "code",
   "execution_count": 12,
   "metadata": {},
   "outputs": [
    {
     "data": {
      "text/plain": [
       "81"
      ]
     },
     "execution_count": 12,
     "metadata": {},
     "output_type": "execute_result"
    }
   ],
   "source": [
    "len(installs_Original['device_os_version'].unique())"
   ]
  }
 ],
 "metadata": {
  "kernelspec": {
   "display_name": "Python 3",
   "language": "python",
   "name": "python3"
  },
  "language_info": {
   "codemirror_mode": {
    "name": "ipython",
    "version": 3
   },
   "file_extension": ".py",
   "mimetype": "text/x-python",
   "name": "python",
   "nbconvert_exporter": "python",
   "pygments_lexer": "ipython3",
   "version": "3.10.9"
  },
  "orig_nbformat": 4
 },
 "nbformat": 4,
 "nbformat_minor": 2
}
