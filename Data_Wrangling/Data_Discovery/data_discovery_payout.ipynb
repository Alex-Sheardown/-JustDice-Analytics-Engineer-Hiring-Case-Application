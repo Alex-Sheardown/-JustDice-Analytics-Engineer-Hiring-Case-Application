{
 "cells": [
  {
   "cell_type": "code",
   "execution_count": 11,
   "metadata": {},
   "outputs": [],
   "source": [
    "import pandas as pd"
   ]
  },
  {
   "cell_type": "code",
   "execution_count": 12,
   "metadata": {},
   "outputs": [],
   "source": [
    "payouts_Original = pd.read_csv('../../Data_Sets/Original/payouts.csv')"
   ]
  },
  {
   "cell_type": "code",
   "execution_count": 13,
   "metadata": {},
   "outputs": [
    {
     "name": "stdout",
     "output_type": "stream",
     "text": [
      "<class 'pandas.core.frame.DataFrame'>\n",
      "RangeIndex: 52003 entries, 0 to 52002\n",
      "Data columns (total 3 columns):\n",
      " #   Column      Non-Null Count  Dtype  \n",
      "---  ------      --------------  -----  \n",
      " 0   install_id  52003 non-null  object \n",
      " 1   event_date  52003 non-null  object \n",
      " 2   value_usd   52003 non-null  float64\n",
      "dtypes: float64(1), object(2)\n",
      "memory usage: 1.2+ MB\n"
     ]
    }
   ],
   "source": [
    "payouts_Original.info()"
   ]
  },
  {
   "cell_type": "code",
   "execution_count": 14,
   "metadata": {},
   "outputs": [
    {
     "data": {
      "text/html": [
       "<div>\n",
       "<style scoped>\n",
       "    .dataframe tbody tr th:only-of-type {\n",
       "        vertical-align: middle;\n",
       "    }\n",
       "\n",
       "    .dataframe tbody tr th {\n",
       "        vertical-align: top;\n",
       "    }\n",
       "\n",
       "    .dataframe thead th {\n",
       "        text-align: right;\n",
       "    }\n",
       "</style>\n",
       "<table border=\"1\" class=\"dataframe\">\n",
       "  <thead>\n",
       "    <tr style=\"text-align: right;\">\n",
       "      <th></th>\n",
       "      <th>install_id</th>\n",
       "      <th>event_date</th>\n",
       "      <th>value_usd</th>\n",
       "    </tr>\n",
       "  </thead>\n",
       "  <tbody>\n",
       "    <tr>\n",
       "      <th>0</th>\n",
       "      <td>8912076a49c7b17960f8d262dc37599f86cbb3da8912b6...</td>\n",
       "      <td>2022-12-21</td>\n",
       "      <td>0.254376</td>\n",
       "    </tr>\n",
       "    <tr>\n",
       "      <th>1</th>\n",
       "      <td>7488c7b0f3d25cea61e435ea2aa346d3bbf1b946b94b1f...</td>\n",
       "      <td>2022-12-28</td>\n",
       "      <td>0.361216</td>\n",
       "    </tr>\n",
       "    <tr>\n",
       "      <th>2</th>\n",
       "      <td>66ee0cd1d490d9d352b46b443c9d5b5aa5bdabfbdb303b...</td>\n",
       "      <td>2022-12-10</td>\n",
       "      <td>0.359006</td>\n",
       "    </tr>\n",
       "    <tr>\n",
       "      <th>3</th>\n",
       "      <td>66ee0cd1d490d9d352b46b443c9d5b5aa5bdabfbdb303b...</td>\n",
       "      <td>2022-12-10</td>\n",
       "      <td>0.253416</td>\n",
       "    </tr>\n",
       "    <tr>\n",
       "      <th>4</th>\n",
       "      <td>66ee0cd1d490d9d352b46b443c9d5b5aa5bdabfbdb303b...</td>\n",
       "      <td>2022-12-10</td>\n",
       "      <td>0.253416</td>\n",
       "    </tr>\n",
       "  </tbody>\n",
       "</table>\n",
       "</div>"
      ],
      "text/plain": [
       "                                          install_id  event_date  value_usd\n",
       "0  8912076a49c7b17960f8d262dc37599f86cbb3da8912b6...  2022-12-21   0.254376\n",
       "1  7488c7b0f3d25cea61e435ea2aa346d3bbf1b946b94b1f...  2022-12-28   0.361216\n",
       "2  66ee0cd1d490d9d352b46b443c9d5b5aa5bdabfbdb303b...  2022-12-10   0.359006\n",
       "3  66ee0cd1d490d9d352b46b443c9d5b5aa5bdabfbdb303b...  2022-12-10   0.253416\n",
       "4  66ee0cd1d490d9d352b46b443c9d5b5aa5bdabfbdb303b...  2022-12-10   0.253416"
      ]
     },
     "execution_count": 14,
     "metadata": {},
     "output_type": "execute_result"
    }
   ],
   "source": [
    "payouts_Original.head(5)"
   ]
  },
  {
   "cell_type": "code",
   "execution_count": 15,
   "metadata": {},
   "outputs": [
    {
     "data": {
      "text/plain": [
       "count    52003.000000\n",
       "mean         1.198410\n",
       "std          2.414285\n",
       "min          0.199860\n",
       "25%          0.280400\n",
       "50%          0.358836\n",
       "75%          0.708659\n",
       "max         28.507500\n",
       "Name: value_usd, dtype: float64"
      ]
     },
     "execution_count": 15,
     "metadata": {},
     "output_type": "execute_result"
    }
   ],
   "source": [
    "payouts_Original['value_usd'].describe()"
   ]
  },
  {
   "cell_type": "code",
   "execution_count": 16,
   "metadata": {},
   "outputs": [
    {
     "data": {
      "text/plain": [
       "<AxesSubplot: >"
      ]
     },
     "execution_count": 16,
     "metadata": {},
     "output_type": "execute_result"
    }
   ],
   "source": [
    "payouts_Original.boxplot( column = ['value_usd'], grid = False)"
   ]
  },
  {
   "cell_type": "code",
   "execution_count": 17,
   "metadata": {},
   "outputs": [
    {
     "data": {
      "text/plain": [
       "'2022-01-01'"
      ]
     },
     "execution_count": 17,
     "metadata": {},
     "output_type": "execute_result"
    }
   ],
   "source": [
    "payouts_Original['event_date'].min()"
   ]
  },
  {
   "cell_type": "code",
   "execution_count": 18,
   "metadata": {},
   "outputs": [
    {
     "data": {
      "text/plain": [
       "'2022-12-31'"
      ]
     },
     "execution_count": 18,
     "metadata": {},
     "output_type": "execute_result"
    }
   ],
   "source": [
    "payouts_Original['event_date'].max()"
   ]
  },
  {
   "cell_type": "code",
   "execution_count": 19,
   "metadata": {},
   "outputs": [
    {
     "data": {
      "text/plain": [
       "20939"
      ]
     },
     "execution_count": 19,
     "metadata": {},
     "output_type": "execute_result"
    }
   ],
   "source": [
    "len(payouts_Original['install_id'].unique())"
   ]
  },
  {
   "cell_type": "code",
   "execution_count": 20,
   "metadata": {},
   "outputs": [
    {
     "data": {
      "text/plain": [
       "62320.91676900001"
      ]
     },
     "execution_count": 20,
     "metadata": {},
     "output_type": "execute_result"
    }
   ],
   "source": [
    "payouts_Original['value_usd'].sum()"
   ]
  }
 ],
 "metadata": {
  "kernelspec": {
   "display_name": "Python 3",
   "language": "python",
   "name": "python3"
  },
  "language_info": {
   "codemirror_mode": {
    "name": "ipython",
    "version": 3
   },
   "file_extension": ".py",
   "mimetype": "text/x-python",
   "name": "python",
   "nbconvert_exporter": "python",
   "pygments_lexer": "ipython3",
   "version": "3.10.9"
  },
  "orig_nbformat": 4
 },
 "nbformat": 4,
 "nbformat_minor": 2
}
